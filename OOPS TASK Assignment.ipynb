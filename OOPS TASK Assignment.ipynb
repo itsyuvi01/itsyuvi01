{
 "cells": [
  {
   "cell_type": "raw",
   "id": "5c070a32-b154-49e2-a1c5-41a12eb7489c",
   "metadata": {},
   "source": [
    "Q1, Create a vehicle class with an init method having instance variables as name_of_vehicle, max_speed\n",
    "and average_of_vehicle."
   ]
  },
  {
   "cell_type": "markdown",
   "id": "e10be98d-545f-47fa-9a13-4bc33ba6f6ca",
   "metadata": {},
   "source": [
    "To create a class in Python, we use the 'class' keyword followed by the class name. In this case, the class name is \"Vehicle\". Inside the class, we define methods. Here, we'll define the '__init__' method which is a special method used for initializing objects. This method will take parameters for the instance variables 'name_of_vehicle', 'max_speed', and 'average_of_vehicle'."
   ]
  },
  {
   "cell_type": "code",
   "execution_count": 2,
   "id": "760b83c9-7fa5-436c-beb9-3dd362e0bbd9",
   "metadata": {},
   "outputs": [],
   "source": [
    "class Vehicle:\n",
    "    def __init__(self, name_of_vehicle, max_speed, average_of_vehicle):\n",
    "        self.name_of_vehicle = name_of_vehicle\n",
    "        self.max_speed = max_speed\n",
    "        self.average_of_vehicle = average_of_vehicle\n"
   ]
  },
  {
   "cell_type": "markdown",
   "id": "57c7944e-6338-45a4-9ab1-7524e46a4d66",
   "metadata": {},
   "source": [
    "In this code:\n",
    "\n",
    "self refers to the instance of the class .\n",
    "'name_of_vehicle', 'max_speed', and 'average_of_vehicle' are the parameters passed to the constructor."
   ]
  },
  {
   "cell_type": "raw",
   "id": "2ae644bc-c0d2-4abf-9024-f76e5182e02f",
   "metadata": {},
   "source": [
    "Q2. Create a child class car from the vehicle class created in Que 1, which will inherit the vehicle class.\n",
    "Create a method named seating_capacity which takes capacity as an argument and returns the name of\n",
    "the vehicle and its seating capacity."
   ]
  },
  {
   "cell_type": "code",
   "execution_count": 3,
   "id": "3ab7f05d-4403-46ed-adde-8bb3e3e464c5",
   "metadata": {},
   "outputs": [],
   "source": [
    "class Car(Vehicle):\n",
    "    def seating_capacity(self, capacity):\n",
    "        return f\"The {self.name_of_vehicle} has a seating capacity of {capacity} people.\"\n"
   ]
  },
  {
   "cell_type": "markdown",
   "id": "ecb200ea-4963-4687-89a5-8746d3251c57",
   "metadata": {},
   "source": [
    "To create a child class in Python, we specify the base class (or parent class) in parentheses after the child class name. In this case, the child class is \"Car\" and it inherits from the \"Vehicle\" class.\n",
    "\n",
    "in above code:\n",
    ">'Car(Vehicle)' specifies that the Car class inherits from the Vehicle class.\n",
    ">The 'seating_capacity' method takes 'capacity' as an argument and returns a string indicating the seating capacity of the car."
   ]
  },
  {
   "cell_type": "raw",
   "id": "eeff18eb-6b82-4296-90d0-93fe14aaf246",
   "metadata": {},
   "source": [
    "Q3. What is multiple inheritance? Write a python code to demonstrate multiple inheritance."
   ]
  },
  {
   "cell_type": "markdown",
   "id": "69578ab7-2964-4cb1-a23d-850e7fec9004",
   "metadata": {},
   "source": [
    "Multiple inheritance is a feature in object-oriented programming where a class can inherit attributes and methods from more than one base class. It allows a derived class to inherit from more than one parent class."
   ]
  },
  {
   "cell_type": "code",
   "execution_count": 5,
   "id": "f8f80eea-46c9-4e1a-a6b8-ab461e4b374d",
   "metadata": {},
   "outputs": [
    {
     "name": "stdout",
     "output_type": "stream",
     "text": [
      "Class A\n",
      "Class B\n",
      "Class C\n"
     ]
    }
   ],
   "source": [
    "class A:\n",
    "    def display_A(self):\n",
    "        print(\"Class A\")\n",
    "\n",
    "class B:\n",
    "    def display_B(self):\n",
    "        print(\"Class B\")\n",
    "\n",
    "class C(A, B):\n",
    "    def display_C(self):\n",
    "        print(\"Class C\")\n",
    "\n",
    "# Creating an instance of class C and using methods from both A and B\n",
    "obj = C()\n",
    "obj.display_A()\n",
    "obj.display_B()\n",
    "obj.display_C()"
   ]
  },
  {
   "cell_type": "markdown",
   "id": "9ae30884-6ce6-4da0-baa1-0b7cf21ce99b",
   "metadata": {},
   "source": [
    "In this code:\n",
    "\n",
    "Class C inherits from both class A and class B, thus demonstrating multiple inheritance."
   ]
  },
  {
   "cell_type": "raw",
   "id": "82f7e3a9-2e96-4a69-8c88-df41dab88fe6",
   "metadata": {},
   "source": [
    "Q4. What are getter and setter in python? Create a class and create a getter and a setter method in this\n",
    "class."
   ]
  },
  {
   "cell_type": "markdown",
   "id": "30a38c8a-4c4f-4add-a43b-b8b41f33f02f",
   "metadata": {},
   "source": [
    "Getter and setter methods are used to access and modify the attributes (instance variables) of a class respectively. They provide encapsulation by controlling access to the attributes."
   ]
  },
  {
   "cell_type": "code",
   "execution_count": 6,
   "id": "a5b4b543-9cd1-420f-a041-a2b9da71d11f",
   "metadata": {},
   "outputs": [],
   "source": [
    "class Example:\n",
    "    def __init__(self):\n",
    "        self._value = 0  # private variable\n",
    "\n",
    "    # Getter method\n",
    "    def get_value(self):\n",
    "        return self._value\n",
    "\n",
    "    # Setter method\n",
    "    def set_value(self, new_value):\n",
    "        if new_value >= 0:\n",
    "            self._value = new_value\n",
    "        else:\n",
    "            print(\"Invalid value. Please provide a non-negative value.\")\n"
   ]
  },
  {
   "cell_type": "markdown",
   "id": "9f33178e-2cde-4bcc-94d3-a62087d84b2a",
   "metadata": {},
   "source": [
    "In this code:\n",
    "\n",
    "> 'get_value' method is a getter method that returns the value of the private variable '_value'.\n",
    "\n",
    "> 'set_value' method is a setter method that sets the value of the private variable '_value' after performing validation."
   ]
  },
  {
   "cell_type": "raw",
   "id": "2a913238-cbf6-45d0-bb45-6d469865c990",
   "metadata": {},
   "source": [
    "Q5.What is method overriding in python? Write a python code to demonstrate method overriding."
   ]
  },
  {
   "cell_type": "markdown",
   "id": "f5e0655e-ec44-4a33-9bac-a6811ba3882f",
   "metadata": {},
   "source": [
    "Method overriding occurs when a subclass provides a specific implementation of a method that is already defined in its superclass. It allows a subclass to provide a specialized implementation of a method that is already defined in its superclass."
   ]
  },
  {
   "cell_type": "code",
   "execution_count": 7,
   "id": "a460a6e1-92e3-4b2e-afba-ec6dc6245195",
   "metadata": {},
   "outputs": [
    {
     "name": "stdout",
     "output_type": "stream",
     "text": [
      "Parent class method\n",
      "Child class method\n"
     ]
    }
   ],
   "source": [
    "class Parent:\n",
    "    def show(self):\n",
    "        print(\"Parent class method\")\n",
    "\n",
    "class Child(Parent):\n",
    "    def show(self):\n",
    "        print(\"Child class method\")\n",
    "\n",
    "# Creating instances and calling the overridden method\n",
    "\n",
    "parent_obj = Parent()\n",
    "child_obj = Child()\n",
    "\n",
    "parent_obj.show()\n",
    "child_obj.show()\n"
   ]
  },
  {
   "cell_type": "markdown",
   "id": "abe8750e-f5c5-47ed-9ddf-545d69cd35b8",
   "metadata": {},
   "source": [
    "In this code:\n",
    "\n",
    "> The 'show' method is overridden in the 'Child' class with a different implementation than the one in the 'Parent' class."
   ]
  },
  {
   "cell_type": "code",
   "execution_count": null,
   "id": "6fed7ae4-789d-4c96-901b-1bea3764e09f",
   "metadata": {},
   "outputs": [],
   "source": []
  }
 ],
 "metadata": {
  "kernelspec": {
   "display_name": "Python 3 (ipykernel)",
   "language": "python",
   "name": "python3"
  },
  "language_info": {
   "codemirror_mode": {
    "name": "ipython",
    "version": 3
   },
   "file_extension": ".py",
   "mimetype": "text/x-python",
   "name": "python",
   "nbconvert_exporter": "python",
   "pygments_lexer": "ipython3",
   "version": "3.10.8"
  }
 },
 "nbformat": 4,
 "nbformat_minor": 5
}
