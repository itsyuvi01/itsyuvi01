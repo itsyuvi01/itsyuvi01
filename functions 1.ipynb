{
 "cells": [
  {
   "cell_type": "markdown",
   "id": "2dc8d382-3fac-4bfb-be6e-23d0aeafbd4b",
   "metadata": {},
   "source": [
    "Q1. Which keyword is used to create a function? Create a function to return a list of odd numbers in the\n",
    "range of 1 to 25."
   ]
  },
  {
   "cell_type": "markdown",
   "id": "b153cf50-775d-40a4-984f-0f79f3e73d85",
   "metadata": {},
   "source": [
    "keyword \"def\" is used to define a function. A function as per the question is demonstrated below-"
   ]
  },
  {
   "cell_type": "code",
   "execution_count": 1,
   "id": "affce226-b399-43b6-8ffe-bf2c4ae26f70",
   "metadata": {},
   "outputs": [],
   "source": [
    "def odd_no():\n",
    "    odd_numbers = []\n",
    "    for number in range (1,26):\n",
    "        if number %2 != 0:\n",
    "            odd_numbers.append(number)\n",
    "    return odd_numbers"
   ]
  },
  {
   "cell_type": "code",
   "execution_count": 2,
   "id": "85b2cc32-de81-4aa5-8aea-ca5284f15fbc",
   "metadata": {},
   "outputs": [
    {
     "data": {
      "text/plain": [
       "[1, 3, 5, 7, 9, 11, 13, 15, 17, 19, 21, 23, 25]"
      ]
     },
     "execution_count": 2,
     "metadata": {},
     "output_type": "execute_result"
    }
   ],
   "source": [
    "odd_num = odd_no()\n",
    "odd_num"
   ]
  },
  {
   "cell_type": "markdown",
   "id": "0c4a33c8-30dd-419c-8a50-d20967b2b496",
   "metadata": {},
   "source": [
    "Q2. Why *args and **kwargs is used in some functions? Create a function each for *args and **kwargs\n",
    "to demonstrate their use."
   ]
  },
  {
   "cell_type": "markdown",
   "id": "0b1afc15-6a13-4846-a56c-f177b310163b",
   "metadata": {},
   "source": [
    "\"*args\" allows to pass any number of argument to a single function. They are collected into a tuple inside a function. A relevant example is given below-"
   ]
  },
  {
   "cell_type": "code",
   "execution_count": 3,
   "id": "eafc8882-c012-4fa0-86af-a7805d781553",
   "metadata": {},
   "outputs": [],
   "source": [
    "def test(*args):\n",
    "    total = 0\n",
    "    for i in args:\n",
    "        total += i\n",
    "    return total"
   ]
  },
  {
   "cell_type": "code",
   "execution_count": 4,
   "id": "f6151355-f27c-47d7-a84e-c57ffc93d06d",
   "metadata": {},
   "outputs": [
    {
     "data": {
      "text/plain": [
       "15"
      ]
     },
     "execution_count": 4,
     "metadata": {},
     "output_type": "execute_result"
    }
   ],
   "source": [
    "t = test(1,2,3,4,5)\n",
    "t"
   ]
  },
  {
   "cell_type": "markdown",
   "id": "25769051-785e-4d19-af83-3c34d28f4d5a",
   "metadata": {},
   "source": [
    "Likewise \"kwargs\" also perform similar functions as \"*args\". However, \"kawrgs\" output are in the format of key and value ie- a dictionary or dict."
   ]
  },
  {
   "cell_type": "code",
   "execution_count": 5,
   "id": "c0d0c860-47f8-433e-882a-d60e1b84c62b",
   "metadata": {},
   "outputs": [],
   "source": [
    "def test2(**kwargs):\n",
    "    for key, value in kwargs.items():\n",
    "        print(f\"{key}:{value}\")"
   ]
  },
  {
   "cell_type": "code",
   "execution_count": 6,
   "id": "bb7e53f0-9b74-4343-8f9b-93300b16ca50",
   "metadata": {},
   "outputs": [
    {
     "name": "stdout",
     "output_type": "stream",
     "text": [
      "name:yuvraj\n",
      "age:25\n"
     ]
    }
   ],
   "source": [
    "test2(name = \"yuvraj\", age = 25)"
   ]
  },
  {
   "cell_type": "markdown",
   "id": "960240ac-6bab-4d65-b023-e5c00528807f",
   "metadata": {},
   "source": [
    "Q3. What is an iterator in python? Name the method used to initialise the iterator object and the method\n",
    "used for iteration. Use these methods to print the first five elements of the given list [2, 4, 6, 8, 10, 12, 14,\n",
    "16, 18, 20]."
   ]
  },
  {
   "cell_type": "markdown",
   "id": "c481153c-f346-431b-9899-a8b67d8f65e7",
   "metadata": {},
   "source": [
    "Iterator implements two methods-\"iter()\" and \"next()\". It allows to iterate over values (like elements of a list) without the need of knowing the details of a sequence. Iterators are intialized by \"iter()\" and iteration is done by \"next()\".\n",
    "\n",
    "Demonstration of the elements as per the question is provided below-"
   ]
  },
  {
   "cell_type": "code",
   "execution_count": 7,
   "id": "f0da38a5-933d-4cea-9e31-14ca851aa7bd",
   "metadata": {},
   "outputs": [
    {
     "name": "stdout",
     "output_type": "stream",
     "text": [
      "2\n",
      "4\n",
      "6\n",
      "8\n",
      "10\n"
     ]
    }
   ],
   "source": [
    "l = [2, 4, 6, 8, 10, 12, 14, 16, 18, 20]\n",
    "iterator = iter(l)\n",
    "for i in range (5):\n",
    "    element = next(iterator)\n",
    "    print (element)"
   ]
  },
  {
   "cell_type": "markdown",
   "id": "e7ef3039-aaba-42bf-9784-00a6490d0ea9",
   "metadata": {},
   "source": [
    "Q4. What is a generator function in python? Why yield keyword is used? Give an example of a generator\n",
    "function."
   ]
  },
  {
   "cell_type": "markdown",
   "id": "61274e19-cc68-46e1-877f-5097d725c8d9",
   "metadata": {},
   "source": [
    "A generator function is a type of function that contains one or more yield statements. It is helpful while working with large data sets. Unlike regular functions that execute and return a value, generator functions generates a sequence of values without having to generate all of them in memory at once.\n",
    "\n",
    "The \"yield\" keyword is used to yield a value from the generator function. It creates an iterator and starts executing the function until it encounters the yield statement.\n",
    "\n",
    "A relevant examle is provided below-"
   ]
  },
  {
   "cell_type": "code",
   "execution_count": 8,
   "id": "415d389a-7d6e-4fac-aa54-80964ff54268",
   "metadata": {},
   "outputs": [],
   "source": [
    "def squares(n):\n",
    "    for i in range(n):\n",
    "        yield i ** 2"
   ]
  },
  {
   "cell_type": "code",
   "execution_count": 9,
   "id": "5af1c94e-2793-4adf-9b07-8001716e5146",
   "metadata": {},
   "outputs": [
    {
     "name": "stdout",
     "output_type": "stream",
     "text": [
      "0\n",
      "1\n",
      "4\n",
      "9\n",
      "16\n"
     ]
    }
   ],
   "source": [
    "squares_generator = squares(5)\n",
    "for i in squares_generator:\n",
    "    print(i)"
   ]
  },
  {
   "cell_type": "markdown",
   "id": "69bf07b6-6fc3-4e53-89e5-b6a9d1bc3127",
   "metadata": {},
   "source": [
    "Q5. Create a generator function for prime numbers less than 1000. Use the next() method to print the\n",
    "first 20 prime numbers."
   ]
  },
  {
   "cell_type": "code",
   "execution_count": 14,
   "id": "a7a20a30-81cc-499b-b29b-151683d3f4df",
   "metadata": {},
   "outputs": [
    {
     "name": "stdout",
     "output_type": "stream",
     "text": [
      "2\n",
      "3\n",
      "5\n",
      "7\n",
      "11\n",
      "13\n",
      "17\n",
      "19\n",
      "23\n",
      "29\n",
      "31\n",
      "37\n",
      "41\n",
      "43\n",
      "47\n",
      "53\n",
      "59\n",
      "61\n",
      "67\n",
      "71\n"
     ]
    }
   ],
   "source": [
    "def is_prime(num):\n",
    "    \"\"\"Check if a number is prime.\"\"\"\n",
    "    if num < 2:\n",
    "        return False\n",
    "    for i in range(2, int(num**0.5) + 1):\n",
    "        if num % i == 0:\n",
    "            return False\n",
    "    return True\n",
    "\n",
    "def prime_generator():\n",
    "    \"\"\"Generate prime numbers less than 1000.\"\"\"\n",
    "    num = 2\n",
    "    while num < 1000:\n",
    "        if is_prime(num):\n",
    "            yield num\n",
    "        num += 1\n",
    "\n",
    "# Using next() to print the first 20 prime numbers\n",
    "prime_gen = prime_generator()\n",
    "for _ in range(20):\n",
    "    print(next(prime_gen))\n",
    "\n"
   ]
  },
  {
   "cell_type": "markdown",
   "id": "dca14644-87c1-4ffd-95c5-c309b0410917",
   "metadata": {},
   "source": [
    "Q6. Write a python program to print the first 10 Fibonacci numbers using a while loop."
   ]
  },
  {
   "cell_type": "code",
   "execution_count": 15,
   "id": "78c2e076-c0b6-4583-b0d9-a93d7d749d7f",
   "metadata": {},
   "outputs": [
    {
     "name": "stdout",
     "output_type": "stream",
     "text": [
      "The first 10 Fibonacci numbers are: [0, 1, 1, 2, 3, 5, 8, 13, 21, 34]\n"
     ]
    }
   ],
   "source": [
    "# Function to print the first n Fibonacci numbers\n",
    "def print_fibonacci(n):\n",
    "    fib_list = [0, 1]\n",
    "    \n",
    "    while len(fib_list) < n:\n",
    "        next_fib = fib_list[-1] + fib_list[-2]\n",
    "        fib_list.append(next_fib)\n",
    "\n",
    "    return fib_list[:n]\n",
    "\n",
    "# Print the first 10 Fibonacci numbers\n",
    "first_10_fibonacci = print_fibonacci(10)\n",
    "print(\"The first 10 Fibonacci numbers are:\", first_10_fibonacci)\n"
   ]
  },
  {
   "cell_type": "markdown",
   "id": "10bf5e71-9137-4978-adc9-74615ac04275",
   "metadata": {},
   "source": [
    "Q7. Write a List Comprehension to iterate through the given string: ‘pwskills’.\n",
    "Expected output: ['p', 'w', 's', 'k', 'i', 'l', 'l', 's']"
   ]
  },
  {
   "cell_type": "code",
   "execution_count": 16,
   "id": "a3f066f3-8f61-4c2c-93fa-a477fcb39b64",
   "metadata": {},
   "outputs": [
    {
     "name": "stdout",
     "output_type": "stream",
     "text": [
      "['p', 'w', 's', 'k', 'i', 'l', 'l', 's']\n"
     ]
    }
   ],
   "source": [
    "input_string = 'pwskills'\n",
    "output_list = [char for char in input_string]\n",
    "print(output_list)\n"
   ]
  },
  {
   "cell_type": "markdown",
   "id": "3d77dde1-5fd7-43ae-bcdd-3c5547640e7c",
   "metadata": {},
   "source": [
    "Q8. Write a python program to check whether a given number is Palindrome or not using a while loop."
   ]
  },
  {
   "cell_type": "code",
   "execution_count": 17,
   "id": "4a31bb69-3b2e-45b9-b5a4-ec1bbb3072d8",
   "metadata": {},
   "outputs": [
    {
     "name": "stdin",
     "output_type": "stream",
     "text": [
      "Enter a number:  10\n"
     ]
    },
    {
     "name": "stdout",
     "output_type": "stream",
     "text": [
      "10 is not a palindrome.\n"
     ]
    }
   ],
   "source": [
    "def is_palindrome(number):\n",
    "    original_number = number\n",
    "    reversed_number = 0\n",
    "\n",
    "    while number > 0:\n",
    "        digit = number % 10\n",
    "        reversed_number = reversed_number * 10 + digit\n",
    "        number = number // 10\n",
    "\n",
    "    return original_number == reversed_number\n",
    "\n",
    "# Input: Taking a number from the user\n",
    "num = int(input(\"Enter a number: \"))\n",
    "\n",
    "# Checking if the number is a palindrome\n",
    "if is_palindrome(num):\n",
    "    print(f\"{num} is a palindrome.\")\n",
    "else:\n",
    "    print(f\"{num} is not a palindrome.\")\n"
   ]
  },
  {
   "cell_type": "markdown",
   "id": "9a0e8964-746f-43b7-b74c-16f419c108d6",
   "metadata": {},
   "source": [
    "In this code:\n",
    "\n",
    "The is_palindrome function takes a number as input and checks whether it is a palindrome.\n",
    "The while loop extracts digits from the original number and builds the reversed number.\n",
    "The function returns True if the original number is equal to its reversed version, indicating a palindrome."
   ]
  },
  {
   "cell_type": "markdown",
   "id": "d06f38d1-4d5a-4fe2-89e9-f7be3b21ce16",
   "metadata": {},
   "source": [
    "Q9. Write a code to print odd numbers from 1 to 100 using list comprehension.\n",
    "\n",
    "Note: Use a list comprehension to create a list from 1 to 100 and use another List comprehension to filter\n",
    "out odd numbers."
   ]
  },
  {
   "cell_type": "code",
   "execution_count": null,
   "id": "e40c0b39-efa2-4341-bd8b-d97a9bfca7f3",
   "metadata": {},
   "outputs": [],
   "source": []
  }
 ],
 "metadata": {
  "kernelspec": {
   "display_name": "Python 3 (ipykernel)",
   "language": "python",
   "name": "python3"
  },
  "language_info": {
   "codemirror_mode": {
    "name": "ipython",
    "version": 3
   },
   "file_extension": ".py",
   "mimetype": "text/x-python",
   "name": "python",
   "nbconvert_exporter": "python",
   "pygments_lexer": "ipython3",
   "version": "3.10.8"
  }
 },
 "nbformat": 4,
 "nbformat_minor": 5
}
